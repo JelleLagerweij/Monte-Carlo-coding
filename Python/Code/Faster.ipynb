{
 "cells": [
  {
   "cell_type": "code",
   "execution_count": 1,
   "metadata": {},
   "outputs": [],
   "source": [
    "# -*- coding: utf-8 -*-\n",
    "\"\"\"\n",
    "Created on Tue Jun 14 16:17:08 2022\n",
    "\n",
    "@author: Jelle\n",
    "\"\"\"\n",
    "import numpy as np\n",
    "import scipy.spatial as spatial\n",
    "import matplotlib.pyplot as plt\n"
   ]
  },
  {
   "cell_type": "code",
   "execution_count": 2,
   "metadata": {},
   "outputs": [],
   "source": [
    "# Test Calculating distances from every particle i to j\n",
    "N = 10000\n",
    "L = 30  # boxize in Angstrom\n",
    "x = np.random.rand(N, 3)*L  # particle positions"
   ]
  },
  {
   "cell_type": "code",
   "execution_count": 3,
   "metadata": {},
   "outputs": [],
   "source": [
    "def allDistances1(x):\n",
    "    N, D = x.shape\n",
    "    d = np.zeros((N, N))\n",
    "\n",
    "    for i in range(N):\n",
    "        pos_ix = x[i, 0]\n",
    "        pos_iy = x[i, 1]\n",
    "        pos_iz = x[i, 2]\n",
    "        \n",
    "        for j in range(N):\n",
    "            pos_jx = x[j, 0]\n",
    "            pos_jy = x[j, 1]\n",
    "            pos_jz = x[j, 2]\n",
    "            \n",
    "            dx = pos_jx - pos_ix\n",
    "            dy = pos_jy - pos_iy\n",
    "            dz = pos_jz - pos_iz\n",
    "            \n",
    "            d[i, j] = np.sqrt(dx**2 + dy**2 + dz**2)\n",
    "    return d  # the squared distances that are returned"
   ]
  },
  {
   "cell_type": "code",
   "execution_count": 4,
   "metadata": {},
   "outputs": [],
   "source": [
    "%timeit allDistances1(x)\n",
    "\n",
    "a = allDistances1(x)"
   ]
  },
  {
   "cell_type": "code",
   "execution_count": null,
   "metadata": {},
   "outputs": [],
   "source": [
    "def allDistances2(x):\n",
    "    N, D = x.shape\n",
    "    d_sq = np.zeros((N, N))\n",
    "\n",
    "    for i in range(N):\n",
    "        pos_i = x[i, :]\n",
    "        \n",
    "        for j in range(i+1, N):\n",
    "            pos_j = x[j, :]\n",
    "            \n",
    "            d = pos_j - pos_i\n",
    "            \n",
    "            d_sq[i, j] = d[0]**2 + d[1]**2 + d[2]**2\n",
    "    return d_sq  # the squared distances that are returnedhe squared distances that are returned"
   ]
  },
  {
   "cell_type": "code",
   "execution_count": null,
   "metadata": {},
   "outputs": [],
   "source": [
    "%timeit allDistances2(x)\n",
    "\n",
    "b = np.sqrt(allDistances2(x))"
   ]
  },
  {
   "cell_type": "code",
   "execution_count": null,
   "metadata": {},
   "outputs": [],
   "source": [
    "a == b"
   ]
  },
  {
   "cell_type": "code",
   "execution_count": null,
   "metadata": {},
   "outputs": [],
   "source": [
    "plt.imshow(a-b)\n",
    "plt.colorbar(label=\"Equality\")\n",
    "plt.xlabel(\"index j\")\n",
    "plt.ylabel(\"index i\")\n",
    "\n",
    "np.allclose(a, b)"
   ]
  },
  {
   "cell_type": "code",
   "execution_count": null,
   "metadata": {},
   "outputs": [],
   "source": [
    "def allDistances3(x):\n",
    "    N, D = x.shape\n",
    "    d_sq = np.zeros((N, N))\n",
    "    \n",
    "    for (i, pos_i) in enumerate(x):  # loop over all rows of 2D array X\n",
    "        d = x - pos_i  # subtrack pos_i immidiately of all items.\n",
    "        d_sq[i, :] = d[:, 0]**2 + d[:, 1]**2 + d[:, 2]**2\n",
    "\n",
    "    return d_sq  # the squared distances that are returned"
   ]
  },
  {
   "cell_type": "code",
   "execution_count": null,
   "metadata": {},
   "outputs": [],
   "source": [
    "%timeit allDistances3(x)"
   ]
  },
  {
   "cell_type": "code",
   "execution_count": null,
   "metadata": {},
   "outputs": [],
   "source": [
    "c = np.sqrt(allDistances3(x))\n",
    "plt.imshow(a-c)\n",
    "plt.colorbar(label=\"Equality\")\n",
    "plt.xlabel(\"index j\")\n",
    "plt.ylabel(\"index i\")\n",
    "\n",
    "np.allclose(a, c)"
   ]
  },
  {
   "cell_type": "code",
   "execution_count": null,
   "metadata": {},
   "outputs": [],
   "source": [
    "def allDistances4(x, interactions):\n",
    "    d = x[interactions[1], :] - x[interactions[0], :]\n",
    "    d_sq = d[:, 0]**2 + d[:, 1]**2 + d[:, 2]**2\n",
    "    return d_sq  # the squared distances that are returned"
   ]
  },
  {
   "cell_type": "code",
   "execution_count": null,
   "metadata": {},
   "outputs": [],
   "source": [
    "# Setup an interactions array first\n",
    "interactions = np.triu_indices(x.shape[0], k=1)\n",
    "z = interactions[0]\n",
    "y = interactions[1]\n",
    "\n",
    "%timeit allDistances4(x, interactions)"
   ]
  },
  {
   "cell_type": "code",
   "execution_count": null,
   "metadata": {},
   "outputs": [],
   "source": [
    "d = np.zeros((x.shape[0], x.shape[0]))\n",
    "d[interactions] = np.sqrt(allDistances4(x, interactions))\n",
    "\n",
    "plt.imshow(a-d)\n",
    "plt.colorbar(label=\"Equality\")\n",
    "plt.xlabel(\"index j\")\n",
    "plt.ylabel(\"index i\")\n",
    "\n",
    "np.allclose(a, d)"
   ]
  },
  {
   "cell_type": "code",
   "execution_count": null,
   "metadata": {},
   "outputs": [],
   "source": [
    "def allDistances5(x):\n",
    "    N, D = x.shape\n",
    "\n",
    "    # Computed distances via an optics interactions trick in an addtional dimension\n",
    "    r = np.broadcast_to(x, (N, N, D))\n",
    "    rel_r = r - r.transpose(1, 0, 2)\n",
    "    d_sq = np.einsum('ijk, ijk->ij',\n",
    "                     rel_r, rel_r,\n",
    "                     optimize='optimal')\n",
    "    return d_sq  # the squared distances that are returned"
   ]
  },
  {
   "cell_type": "code",
   "execution_count": null,
   "metadata": {},
   "outputs": [],
   "source": [
    "%timeit allDistances5(x)"
   ]
  },
  {
   "cell_type": "code",
   "execution_count": null,
   "metadata": {},
   "outputs": [],
   "source": [
    "e = np.sqrt(allDistances5(x))\n",
    "\n",
    "plt.imshow(a-e)\n",
    "plt.colorbar(label=\"Equality\")\n",
    "plt.xlabel(\"index j\")\n",
    "plt.ylabel(\"index i\")\n",
    "\n",
    "np.allclose(a, e)\n",
    "np.max(a-e)"
   ]
  },
  {
   "cell_type": "code",
   "execution_count": null,
   "metadata": {},
   "outputs": [],
   "source": [
    "def allDistances6(x):\n",
    "    # Use the scipy.spation package\n",
    "    r = spatial.distance_matrix(x, x)\n",
    "    return r"
   ]
  },
  {
   "cell_type": "code",
   "execution_count": null,
   "metadata": {},
   "outputs": [],
   "source": [
    "%timeit allDistances6(x)"
   ]
  },
  {
   "cell_type": "code",
   "execution_count": null,
   "metadata": {},
   "outputs": [],
   "source": [
    "f = allDistances6(x)\n",
    "\n",
    "plt.imshow(a-f)\n",
    "plt.colorbar(label=\"Equality\")\n",
    "plt.xlabel(\"index j\")\n",
    "plt.ylabel(\"index i\")\n",
    "\n",
    "np.allclose(a, f)\n",
    "np.max(a-f)"
   ]
  },
  {
   "cell_type": "code",
   "execution_count": null,
   "metadata": {},
   "outputs": [],
   "source": []
  }
 ],
 "metadata": {
  "kernelspec": {
   "display_name": "KOH_project",
   "language": "python",
   "name": "python3"
  },
  "language_info": {
   "codemirror_mode": {
    "name": "ipython",
    "version": 3
   },
   "file_extension": ".py",
   "mimetype": "text/x-python",
   "name": "python",
   "nbconvert_exporter": "python",
   "pygments_lexer": "ipython3",
   "version": "3.12.2"
  }
 },
 "nbformat": 4,
 "nbformat_minor": 2
}
