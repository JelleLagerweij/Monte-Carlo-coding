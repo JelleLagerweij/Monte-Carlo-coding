{
 "cells": [
  {
   "cell_type": "code",
   "execution_count": 40,
   "metadata": {},
   "outputs": [],
   "source": [
    "import numpy as np\n",
    "import matplotlib.pyplot as plt\n",
    "import scipy.constants as co\n",
    "import timeit"
   ]
  },
  {
   "cell_type": "code",
   "execution_count": 83,
   "metadata": {},
   "outputs": [],
   "source": [
    "class State:\n",
    "    def __init__(self, T, rho, m_a, eps, sig, r_cut, N_a):\n",
    "        self.k_BT = T*co.k\n",
    "        self.eps = eps*co.k\n",
    "        self.sig2 = (sig*1e-10)**2\n",
    "        self.r_cut2 = (r_cut*1e-10)**2\n",
    "        self.initial_config(N_a, rho, m_a)\n",
    "    \n",
    "    def initial_config(self, N_a, rho, m_a):\n",
    "        self.L = np.power(m_a*N_a/(co.N_A*1000*rho), 1/3)\n",
    "        self.x = np.random.rand(3, N_a)*self.L - self.L/2\n",
    "    \n",
    "    def single_energy(self, N_i, trial=False):\n",
    "        if trial==False:\n",
    "            x = self.x\n",
    "        else:\n",
    "            x = self.x_trial\n",
    "\n",
    "        # Calculate all atomic distances\n",
    "        rel_r = (x - x[:, N_i].reshape(3, 1) + self.L/2) % self.L - self.L/2\n",
    "        d2 = np.einsum('ij, ij -> j', rel_r, rel_r)\n",
    "        # Check for self-interaction and cutoff\n",
    "        d2[N_i] = 2*self.r_cut2\n",
    "        d2 = d2[d2 < self.r_cut2]\n",
    "        \n",
    "        # Calculate powers of sig/r\n",
    "        sr2 = self.sig2 / d2\n",
    "        sr6 = sr2*sr2*sr2\n",
    "        sr12 = sr6*sr6\n",
    "        \n",
    "        # Sum up every energy interaction\n",
    "        return np.sum(4*self.eps*(sr12 - sr6))\n",
    "    \n",
    "    def total_energy(self):\n",
    "        e_tot = 0\n",
    "        for i in range(np.shape(self.x)[1]):\n",
    "            rel_r = (self.x[:, 0:i] - self.x[:, i].reshape(3, 1) + self.L/2) % self.L - self.L/2\n",
    "            d2 = np.einsum('ij, ij -> j', rel_r, rel_r)\n",
    "\n",
    "            # take out the cutoff\n",
    "            d2 = d2[d2 < self.r_cut2]\n",
    "            \n",
    "            # Calculate powers of sig/r\n",
    "            sr2 = self.sig2 / d2\n",
    "            sr6 = sr2*sr2*sr2\n",
    "            sr12 = sr6*sr6\n",
    "            \n",
    "            # Sum up every energy interaction\n",
    "            e_tot += np.sum(4*self.eps*(sr12 - sr6))\n",
    "        return e_tot\n",
    "\n",
    "    def total_energy2(self):\n",
    "        N, D = self.x.shape\n",
    "        r = np.broadcast_to(self.x, (D, N, N))\n"
   ]
  },
  {
   "cell_type": "code",
   "execution_count": 88,
   "metadata": {},
   "outputs": [],
   "source": [
    "Simulation = State(150, 361.4, 16.04246, 148, 3.73, 14, 10)\n",
    "e_singe = Simulation.single_energy(0)\n",
    "e_tot = Simulation.total_energy()\n",
    "e_tot2 = Simulation.total_energy2()"
   ]
  },
  {
   "cell_type": "code",
   "execution_count": 133,
   "metadata": {},
   "outputs": [
    {
     "name": "stdout",
     "output_type": "stream",
     "text": [
      "[[0.20587526 0.65292532 0.30686544 0.07503841]\n",
      " [0.72699383 0.74289657 0.91480996 0.62028321]\n",
      " [0.29464287 0.251744   0.42578062 0.70112574]]\n",
      "(4, 3, 4)\n"
     ]
    }
   ],
   "source": [
    "a = np.random.rand(3, 4)\n",
    "print(a)\n",
    "aa = np.broadcast_to(a, (4, 3, 4))\n",
    "print(np.shape(aa))"
   ]
  },
  {
   "cell_type": "code",
   "execution_count": 78,
   "metadata": {},
   "outputs": [
    {
     "name": "stdout",
     "output_type": "stream",
     "text": [
      "140 µs ± 3.66 µs per loop (mean ± std. dev. of 7 runs, 10,000 loops each)\n"
     ]
    }
   ],
   "source": [
    "%%timeit\n",
    "e = Simulation.single_energy(0)"
   ]
  },
  {
   "cell_type": "code",
   "execution_count": 79,
   "metadata": {},
   "outputs": [
    {
     "name": "stdout",
     "output_type": "stream",
     "text": [
      "92.3 ms ± 1.17 ms per loop (mean ± std. dev. of 7 runs, 10 loops each)\n"
     ]
    }
   ],
   "source": [
    "%%timeit\n",
    "e = Simulation.total_energy()"
   ]
  },
  {
   "cell_type": "code",
   "execution_count": 87,
   "metadata": {},
   "outputs": [
    {
     "name": "stdout",
     "output_type": "stream",
     "text": [
      "171 ms ± 7.28 ms per loop (mean ± std. dev. of 7 runs, 1 loop each)\n"
     ]
    }
   ],
   "source": [
    "%%timeit\n",
    "e = Simulation.total_energy2()"
   ]
  },
  {
   "cell_type": "code",
   "execution_count": null,
   "metadata": {},
   "outputs": [],
   "source": []
  }
 ],
 "metadata": {
  "kernelspec": {
   "display_name": "KOH_project",
   "language": "python",
   "name": "python3"
  },
  "language_info": {
   "codemirror_mode": {
    "name": "ipython",
    "version": 3
   },
   "file_extension": ".py",
   "mimetype": "text/x-python",
   "name": "python",
   "nbconvert_exporter": "python",
   "pygments_lexer": "ipython3",
   "version": "3.12.2"
  }
 },
 "nbformat": 4,
 "nbformat_minor": 2
}
